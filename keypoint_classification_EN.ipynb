{
 "cells": [
  {
   "cell_type": "code",
   "execution_count": 12,
   "metadata": {
    "id": "igMyGnjE9hEp"
   },
   "outputs": [],
   "source": [
    "import csv\n",
    "\n",
    "import numpy as np\n",
    "import tensorflow as tf\n",
    "from sklearn.model_selection import train_test_split\n",
    "\n",
    "RANDOM_SEED = 42"
   ]
  },
  {
   "cell_type": "markdown",
   "metadata": {
    "id": "t2HDvhIu9hEr"
   },
   "source": [
    "# Specify each path"
   ]
  },
  {
   "cell_type": "code",
   "execution_count": 13,
   "metadata": {
    "id": "9NvZP2Zn9hEy"
   },
   "outputs": [],
   "source": [
    "dataset = 'model/keypoint_classifier/keypoint.csv'\n",
    "model_save_path = 'model/keypoint_classifier/keypoint_classifier.hdf5'\n",
    "tflite_save_path = 'model/keypoint_classifier/keypoint_classifier.tflite'"
   ]
  },
  {
   "cell_type": "markdown",
   "metadata": {
    "id": "s5oMH7x19hEz"
   },
   "source": [
    "# Set number of classes"
   ]
  },
  {
   "cell_type": "code",
   "execution_count": 14,
   "metadata": {
    "id": "du4kodXL9hEz"
   },
   "outputs": [],
   "source": [
    "NUM_CLASSES = 10"
   ]
  },
  {
   "cell_type": "markdown",
   "metadata": {
    "id": "XjnL0uso9hEz"
   },
   "source": [
    "# Dataset reading"
   ]
  },
  {
   "cell_type": "code",
   "execution_count": 15,
   "metadata": {
    "id": "QT5ZqtEz9hE0"
   },
   "outputs": [],
   "source": [
    "X_dataset = np.loadtxt(dataset, delimiter=',', dtype='float32', usecols=list(range(1, (21 * 2) + 1)))"
   ]
  },
  {
   "cell_type": "code",
   "execution_count": 16,
   "metadata": {
    "id": "QmoKFsp49hE0"
   },
   "outputs": [],
   "source": [
    "y_dataset = np.loadtxt(dataset, delimiter=',', dtype='int32', usecols=(0))"
   ]
  },
  {
   "cell_type": "code",
   "execution_count": 17,
   "metadata": {
    "id": "xQU7JTZ_9hE0"
   },
   "outputs": [],
   "source": [
    "X_train, X_test, y_train, y_test = train_test_split(X_dataset, y_dataset, train_size=0.75, random_state=RANDOM_SEED)"
   ]
  },
  {
   "cell_type": "markdown",
   "metadata": {
    "id": "mxK_lETT9hE0"
   },
   "source": [
    "# Model building"
   ]
  },
  {
   "cell_type": "code",
   "execution_count": 18,
   "metadata": {
    "id": "vHBmUf1t9hE1"
   },
   "outputs": [],
   "source": [
    "model = tf.keras.models.Sequential([\n",
    "    tf.keras.layers.Input((21 * 2, )),\n",
    "    tf.keras.layers.Dropout(0.2),\n",
    "    tf.keras.layers.Dense(20, activation='relu'),\n",
    "    tf.keras.layers.Dropout(0.4),\n",
    "    tf.keras.layers.Dense(10, activation='relu'),\n",
    "    tf.keras.layers.Dense(NUM_CLASSES, activation='softmax')\n",
    "])"
   ]
  },
  {
   "cell_type": "code",
   "execution_count": 19,
   "metadata": {
    "colab": {
     "base_uri": "https://localhost:8080/"
    },
    "id": "ypqky9tc9hE1",
    "outputId": "5db082bb-30e3-4110-bf63-a1ee777ecd46"
   },
   "outputs": [
    {
     "name": "stdout",
     "output_type": "stream",
     "text": [
      "Model: \"sequential_1\"\n",
      "_________________________________________________________________\n",
      " Layer (type)                Output Shape              Param #   \n",
      "=================================================================\n",
      " dropout_2 (Dropout)         (None, 42)                0         \n",
      "                                                                 \n",
      " dense_3 (Dense)             (None, 20)                860       \n",
      "                                                                 \n",
      " dropout_3 (Dropout)         (None, 20)                0         \n",
      "                                                                 \n",
      " dense_4 (Dense)             (None, 10)                210       \n",
      "                                                                 \n",
      " dense_5 (Dense)             (None, 10)                110       \n",
      "                                                                 \n",
      "=================================================================\n",
      "Total params: 1,180\n",
      "Trainable params: 1,180\n",
      "Non-trainable params: 0\n",
      "_________________________________________________________________\n"
     ]
    }
   ],
   "source": [
    "model.summary()  # tf.keras.utils.plot_model(model, show_shapes=True)"
   ]
  },
  {
   "cell_type": "code",
   "execution_count": 20,
   "metadata": {
    "id": "MbMjOflQ9hE1"
   },
   "outputs": [],
   "source": [
    "# Model checkpoint callback\n",
    "cp_callback = tf.keras.callbacks.ModelCheckpoint(\n",
    "    model_save_path, verbose=1, save_weights_only=False)\n",
    "# Callback for early stopping\n",
    "es_callback = tf.keras.callbacks.EarlyStopping(patience=20, verbose=1)"
   ]
  },
  {
   "cell_type": "code",
   "execution_count": 21,
   "metadata": {
    "id": "c3Dac0M_9hE2"
   },
   "outputs": [],
   "source": [
    "# Model compilation\n",
    "model.compile(\n",
    "    optimizer='adam',\n",
    "    loss='sparse_categorical_crossentropy',\n",
    "    metrics=['accuracy']\n",
    ")"
   ]
  },
  {
   "cell_type": "markdown",
   "metadata": {
    "id": "7XI0j1Iu9hE2"
   },
   "source": [
    "# Model training"
   ]
  },
  {
   "cell_type": "code",
   "execution_count": 22,
   "metadata": {
    "colab": {
     "base_uri": "https://localhost:8080/"
    },
    "id": "WirBl-JE9hE3",
    "outputId": "71b30ca2-8294-4d9d-8aa2-800d90d399de",
    "scrolled": true
   },
   "outputs": [
    {
     "name": "stdout",
     "output_type": "stream",
     "text": [
      "Epoch 1/1000\n",
      "30/46 [==================>...........] - ETA: 0s - loss: 2.4258 - accuracy: 0.0714 \n",
      "Epoch 1: saving model to model/keypoint_classifier\\keypoint_classifier.hdf5\n",
      "46/46 [==============================] - 1s 8ms/step - loss: 2.3811 - accuracy: 0.0867 - val_loss: 2.2046 - val_accuracy: 0.1747\n",
      "Epoch 2/1000\n",
      "34/46 [=====================>........] - ETA: 0s - loss: 2.2094 - accuracy: 0.1859\n",
      "Epoch 2: saving model to model/keypoint_classifier\\keypoint_classifier.hdf5\n",
      "46/46 [==============================] - 0s 3ms/step - loss: 2.1901 - accuracy: 0.1945 - val_loss: 2.0694 - val_accuracy: 0.2548\n",
      "Epoch 3/1000\n",
      "30/46 [==================>...........] - ETA: 0s - loss: 2.0788 - accuracy: 0.2307\n",
      "Epoch 3: saving model to model/keypoint_classifier\\keypoint_classifier.hdf5\n",
      "46/46 [==============================] - 0s 4ms/step - loss: 2.0625 - accuracy: 0.2376 - val_loss: 1.9337 - val_accuracy: 0.2767\n",
      "Epoch 4/1000\n",
      "36/46 [======================>.......] - ETA: 0s - loss: 1.9588 - accuracy: 0.2691\n",
      "Epoch 4: saving model to model/keypoint_classifier\\keypoint_classifier.hdf5\n",
      "46/46 [==============================] - 0s 3ms/step - loss: 1.9514 - accuracy: 0.2668 - val_loss: 1.8251 - val_accuracy: 0.3063\n",
      "Epoch 5/1000\n",
      "30/46 [==================>...........] - ETA: 0s - loss: 1.8740 - accuracy: 0.3057\n",
      "Epoch 5: saving model to model/keypoint_classifier\\keypoint_classifier.hdf5\n",
      "46/46 [==============================] - 0s 4ms/step - loss: 1.8615 - accuracy: 0.3096 - val_loss: 1.7305 - val_accuracy: 0.4280\n",
      "Epoch 6/1000\n",
      "35/46 [=====================>........] - ETA: 0s - loss: 1.8088 - accuracy: 0.3348\n",
      "Epoch 6: saving model to model/keypoint_classifier\\keypoint_classifier.hdf5\n",
      "46/46 [==============================] - 0s 3ms/step - loss: 1.7981 - accuracy: 0.3385 - val_loss: 1.6399 - val_accuracy: 0.4238\n",
      "Epoch 7/1000\n",
      "31/46 [===================>..........] - ETA: 0s - loss: 1.7581 - accuracy: 0.3485\n",
      "Epoch 7: saving model to model/keypoint_classifier\\keypoint_classifier.hdf5\n",
      "46/46 [==============================] - 0s 3ms/step - loss: 1.7406 - accuracy: 0.3595 - val_loss: 1.5635 - val_accuracy: 0.4644\n",
      "Epoch 8/1000\n",
      "35/46 [=====================>........] - ETA: 0s - loss: 1.6989 - accuracy: 0.3663\n",
      "Epoch 8: saving model to model/keypoint_classifier\\keypoint_classifier.hdf5\n",
      "46/46 [==============================] - 0s 3ms/step - loss: 1.6884 - accuracy: 0.3704 - val_loss: 1.4862 - val_accuracy: 0.4987\n",
      "Epoch 9/1000\n",
      "31/46 [===================>..........] - ETA: 0s - loss: 1.6356 - accuracy: 0.3919\n",
      "Epoch 9: saving model to model/keypoint_classifier\\keypoint_classifier.hdf5\n",
      "46/46 [==============================] - 0s 3ms/step - loss: 1.6293 - accuracy: 0.3943 - val_loss: 1.4214 - val_accuracy: 0.5231\n",
      "Epoch 10/1000\n",
      "33/46 [====================>.........] - ETA: 0s - loss: 1.5986 - accuracy: 0.4034\n",
      "Epoch 10: saving model to model/keypoint_classifier\\keypoint_classifier.hdf5\n",
      "46/46 [==============================] - 0s 3ms/step - loss: 1.5884 - accuracy: 0.4072 - val_loss: 1.3597 - val_accuracy: 0.5528\n",
      "Epoch 11/1000\n",
      "32/46 [===================>..........] - ETA: 0s - loss: 1.5389 - accuracy: 0.4233\n",
      "Epoch 11: saving model to model/keypoint_classifier\\keypoint_classifier.hdf5\n",
      "46/46 [==============================] - 0s 3ms/step - loss: 1.5409 - accuracy: 0.4257 - val_loss: 1.3026 - val_accuracy: 0.5855\n",
      "Epoch 12/1000\n",
      "29/46 [=================>............] - ETA: 0s - loss: 1.5094 - accuracy: 0.4340\n",
      "Epoch 12: saving model to model/keypoint_classifier\\keypoint_classifier.hdf5\n",
      "46/46 [==============================] - 0s 3ms/step - loss: 1.4974 - accuracy: 0.4377 - val_loss: 1.2451 - val_accuracy: 0.6131\n",
      "Epoch 13/1000\n",
      "32/46 [===================>..........] - ETA: 0s - loss: 1.4889 - accuracy: 0.4399\n",
      "Epoch 13: saving model to model/keypoint_classifier\\keypoint_classifier.hdf5\n",
      "46/46 [==============================] - 0s 3ms/step - loss: 1.4897 - accuracy: 0.4405 - val_loss: 1.2088 - val_accuracy: 0.6188\n",
      "Epoch 14/1000\n",
      "34/46 [=====================>........] - ETA: 0s - loss: 1.4390 - accuracy: 0.4506\n",
      "Epoch 14: saving model to model/keypoint_classifier\\keypoint_classifier.hdf5\n",
      "46/46 [==============================] - 0s 3ms/step - loss: 1.4304 - accuracy: 0.4559 - val_loss: 1.1565 - val_accuracy: 0.6339\n",
      "Epoch 15/1000\n",
      "30/46 [==================>...........] - ETA: 0s - loss: 1.4102 - accuracy: 0.4602\n",
      "Epoch 15: saving model to model/keypoint_classifier\\keypoint_classifier.hdf5\n",
      "46/46 [==============================] - 0s 4ms/step - loss: 1.4011 - accuracy: 0.4625 - val_loss: 1.1143 - val_accuracy: 0.6604\n",
      "Epoch 16/1000\n",
      "31/46 [===================>..........] - ETA: 0s - loss: 1.4052 - accuracy: 0.4705\n",
      "Epoch 16: saving model to model/keypoint_classifier\\keypoint_classifier.hdf5\n",
      "46/46 [==============================] - 0s 3ms/step - loss: 1.3961 - accuracy: 0.4698 - val_loss: 1.0908 - val_accuracy: 0.6833\n",
      "Epoch 17/1000\n",
      "32/46 [===================>..........] - ETA: 0s - loss: 1.3685 - accuracy: 0.4844\n",
      "Epoch 17: saving model to model/keypoint_classifier\\keypoint_classifier.hdf5\n",
      "46/46 [==============================] - 0s 3ms/step - loss: 1.3612 - accuracy: 0.4886 - val_loss: 1.0535 - val_accuracy: 0.6921\n",
      "Epoch 18/1000\n",
      "39/46 [========================>.....] - ETA: 0s - loss: 1.3449 - accuracy: 0.4972\n",
      "Epoch 18: saving model to model/keypoint_classifier\\keypoint_classifier.hdf5\n",
      "46/46 [==============================] - 0s 3ms/step - loss: 1.3472 - accuracy: 0.4954 - val_loss: 1.0244 - val_accuracy: 0.7015\n",
      "Epoch 19/1000\n",
      "31/46 [===================>..........] - ETA: 0s - loss: 1.3423 - accuracy: 0.5018\n",
      "Epoch 19: saving model to model/keypoint_classifier\\keypoint_classifier.hdf5\n",
      "46/46 [==============================] - 0s 3ms/step - loss: 1.3269 - accuracy: 0.5086 - val_loss: 0.9910 - val_accuracy: 0.7176\n",
      "Epoch 20/1000\n",
      "32/46 [===================>..........] - ETA: 0s - loss: 1.3140 - accuracy: 0.5002\n",
      "Epoch 20: saving model to model/keypoint_classifier\\keypoint_classifier.hdf5\n",
      "46/46 [==============================] - 0s 3ms/step - loss: 1.3177 - accuracy: 0.5006 - val_loss: 0.9574 - val_accuracy: 0.7233\n",
      "Epoch 21/1000\n",
      "37/46 [=======================>......] - ETA: 0s - loss: 1.2929 - accuracy: 0.5160\n",
      "Epoch 21: saving model to model/keypoint_classifier\\keypoint_classifier.hdf5\n",
      "46/46 [==============================] - 0s 3ms/step - loss: 1.2877 - accuracy: 0.5171 - val_loss: 0.9313 - val_accuracy: 0.7296\n",
      "Epoch 22/1000\n",
      "31/46 [===================>..........] - ETA: 0s - loss: 1.2609 - accuracy: 0.5348\n",
      "Epoch 22: saving model to model/keypoint_classifier\\keypoint_classifier.hdf5\n",
      "46/46 [==============================] - 0s 3ms/step - loss: 1.2561 - accuracy: 0.5353 - val_loss: 0.9034 - val_accuracy: 0.7493\n",
      "Epoch 23/1000\n",
      "30/46 [==================>...........] - ETA: 0s - loss: 1.2701 - accuracy: 0.5195\n",
      "Epoch 23: saving model to model/keypoint_classifier\\keypoint_classifier.hdf5\n",
      "46/46 [==============================] - 0s 3ms/step - loss: 1.2662 - accuracy: 0.5301 - val_loss: 0.8804 - val_accuracy: 0.7780\n",
      "Epoch 24/1000\n",
      "31/46 [===================>..........] - ETA: 0s - loss: 1.2451 - accuracy: 0.5290\n",
      "Epoch 24: saving model to model/keypoint_classifier\\keypoint_classifier.hdf5\n",
      "46/46 [==============================] - 0s 3ms/step - loss: 1.2492 - accuracy: 0.5304 - val_loss: 0.8597 - val_accuracy: 0.7842\n",
      "Epoch 25/1000\n",
      "31/46 [===================>..........] - ETA: 0s - loss: 1.2295 - accuracy: 0.5454\n",
      "Epoch 25: saving model to model/keypoint_classifier\\keypoint_classifier.hdf5\n",
      "46/46 [==============================] - 0s 3ms/step - loss: 1.2123 - accuracy: 0.5543 - val_loss: 0.8298 - val_accuracy: 0.8024\n",
      "Epoch 26/1000\n",
      "31/46 [===================>..........] - ETA: 0s - loss: 1.2021 - accuracy: 0.5645\n",
      "Epoch 26: saving model to model/keypoint_classifier\\keypoint_classifier.hdf5\n",
      "46/46 [==============================] - 0s 3ms/step - loss: 1.1997 - accuracy: 0.5606 - val_loss: 0.8106 - val_accuracy: 0.8263\n",
      "Epoch 27/1000\n",
      "33/46 [====================>.........] - ETA: 0s - loss: 1.2113 - accuracy: 0.5559\n",
      "Epoch 27: saving model to model/keypoint_classifier\\keypoint_classifier.hdf5\n",
      "46/46 [==============================] - 0s 3ms/step - loss: 1.2060 - accuracy: 0.5562 - val_loss: 0.7924 - val_accuracy: 0.8206\n",
      "Epoch 28/1000\n"
     ]
    },
    {
     "name": "stdout",
     "output_type": "stream",
     "text": [
      "31/46 [===================>..........] - ETA: 0s - loss: 1.1692 - accuracy: 0.5716\n",
      "Epoch 28: saving model to model/keypoint_classifier\\keypoint_classifier.hdf5\n",
      "46/46 [==============================] - 0s 4ms/step - loss: 1.1677 - accuracy: 0.5703 - val_loss: 0.7761 - val_accuracy: 0.8341\n",
      "Epoch 29/1000\n",
      "31/46 [===================>..........] - ETA: 0s - loss: 1.1663 - accuracy: 0.5733\n",
      "Epoch 29: saving model to model/keypoint_classifier\\keypoint_classifier.hdf5\n",
      "46/46 [==============================] - 0s 4ms/step - loss: 1.1667 - accuracy: 0.5698 - val_loss: 0.7625 - val_accuracy: 0.8284\n",
      "Epoch 30/1000\n",
      "31/46 [===================>..........] - ETA: 0s - loss: 1.1679 - accuracy: 0.5668\n",
      "Epoch 30: saving model to model/keypoint_classifier\\keypoint_classifier.hdf5\n",
      "46/46 [==============================] - 0s 3ms/step - loss: 1.1671 - accuracy: 0.5649 - val_loss: 0.7455 - val_accuracy: 0.8492\n",
      "Epoch 31/1000\n",
      "32/46 [===================>..........] - ETA: 0s - loss: 1.1600 - accuracy: 0.5684\n",
      "Epoch 31: saving model to model/keypoint_classifier\\keypoint_classifier.hdf5\n",
      "46/46 [==============================] - 0s 3ms/step - loss: 1.1564 - accuracy: 0.5675 - val_loss: 0.7284 - val_accuracy: 0.8560\n",
      "Epoch 32/1000\n",
      "32/46 [===================>..........] - ETA: 0s - loss: 1.1294 - accuracy: 0.5825\n",
      "Epoch 32: saving model to model/keypoint_classifier\\keypoint_classifier.hdf5\n",
      "46/46 [==============================] - 0s 3ms/step - loss: 1.1371 - accuracy: 0.5783 - val_loss: 0.7176 - val_accuracy: 0.8513\n",
      "Epoch 33/1000\n",
      "32/46 [===================>..........] - ETA: 0s - loss: 1.1222 - accuracy: 0.5896\n",
      "Epoch 33: saving model to model/keypoint_classifier\\keypoint_classifier.hdf5\n",
      "46/46 [==============================] - 0s 3ms/step - loss: 1.1230 - accuracy: 0.5817 - val_loss: 0.7015 - val_accuracy: 0.8643\n",
      "Epoch 34/1000\n",
      "32/46 [===================>..........] - ETA: 0s - loss: 1.1107 - accuracy: 0.5945\n",
      "Epoch 34: saving model to model/keypoint_classifier\\keypoint_classifier.hdf5\n",
      "46/46 [==============================] - 0s 3ms/step - loss: 1.1248 - accuracy: 0.5894 - val_loss: 0.6951 - val_accuracy: 0.8575\n",
      "Epoch 35/1000\n",
      "31/46 [===================>..........] - ETA: 0s - loss: 1.1410 - accuracy: 0.5751\n",
      "Epoch 35: saving model to model/keypoint_classifier\\keypoint_classifier.hdf5\n",
      "46/46 [==============================] - 0s 3ms/step - loss: 1.1371 - accuracy: 0.5777 - val_loss: 0.6870 - val_accuracy: 0.8627\n",
      "Epoch 36/1000\n",
      "32/46 [===================>..........] - ETA: 0s - loss: 1.0974 - accuracy: 0.5989\n",
      "Epoch 36: saving model to model/keypoint_classifier\\keypoint_classifier.hdf5\n",
      "46/46 [==============================] - 0s 3ms/step - loss: 1.0978 - accuracy: 0.5985 - val_loss: 0.6736 - val_accuracy: 0.8679\n",
      "Epoch 37/1000\n",
      "31/46 [===================>..........] - ETA: 0s - loss: 1.0997 - accuracy: 0.6001\n",
      "Epoch 37: saving model to model/keypoint_classifier\\keypoint_classifier.hdf5\n",
      "46/46 [==============================] - 0s 3ms/step - loss: 1.1018 - accuracy: 0.5973 - val_loss: 0.6722 - val_accuracy: 0.8606\n",
      "Epoch 38/1000\n",
      "31/46 [===================>..........] - ETA: 0s - loss: 1.0875 - accuracy: 0.5990\n",
      "Epoch 38: saving model to model/keypoint_classifier\\keypoint_classifier.hdf5\n",
      "46/46 [==============================] - 0s 3ms/step - loss: 1.0937 - accuracy: 0.5961 - val_loss: 0.6550 - val_accuracy: 0.8695\n",
      "Epoch 39/1000\n",
      "32/46 [===================>..........] - ETA: 0s - loss: 1.0701 - accuracy: 0.6057\n",
      "Epoch 39: saving model to model/keypoint_classifier\\keypoint_classifier.hdf5\n",
      "46/46 [==============================] - 0s 3ms/step - loss: 1.0830 - accuracy: 0.6050 - val_loss: 0.6510 - val_accuracy: 0.8747\n",
      "Epoch 40/1000\n",
      "31/46 [===================>..........] - ETA: 0s - loss: 1.0644 - accuracy: 0.6021\n",
      "Epoch 40: saving model to model/keypoint_classifier\\keypoint_classifier.hdf5\n",
      "46/46 [==============================] - 0s 3ms/step - loss: 1.0736 - accuracy: 0.5939 - val_loss: 0.6409 - val_accuracy: 0.8679\n",
      "Epoch 41/1000\n",
      "31/46 [===================>..........] - ETA: 0s - loss: 1.0683 - accuracy: 0.6116\n",
      "Epoch 41: saving model to model/keypoint_classifier\\keypoint_classifier.hdf5\n",
      "46/46 [==============================] - 0s 4ms/step - loss: 1.0690 - accuracy: 0.6102 - val_loss: 0.6322 - val_accuracy: 0.8778\n",
      "Epoch 42/1000\n",
      "31/46 [===================>..........] - ETA: 0s - loss: 1.0566 - accuracy: 0.6134\n",
      "Epoch 42: saving model to model/keypoint_classifier\\keypoint_classifier.hdf5\n",
      "46/46 [==============================] - 0s 3ms/step - loss: 1.0545 - accuracy: 0.6115 - val_loss: 0.6230 - val_accuracy: 0.8736\n",
      "Epoch 43/1000\n",
      "31/46 [===================>..........] - ETA: 0s - loss: 1.0785 - accuracy: 0.6089\n",
      "Epoch 43: saving model to model/keypoint_classifier\\keypoint_classifier.hdf5\n",
      "46/46 [==============================] - 0s 3ms/step - loss: 1.0571 - accuracy: 0.6114 - val_loss: 0.6173 - val_accuracy: 0.8830\n",
      "Epoch 44/1000\n",
      "34/46 [=====================>........] - ETA: 0s - loss: 1.0511 - accuracy: 0.6126\n",
      "Epoch 44: saving model to model/keypoint_classifier\\keypoint_classifier.hdf5\n",
      "46/46 [==============================] - 0s 3ms/step - loss: 1.0598 - accuracy: 0.6109 - val_loss: 0.6141 - val_accuracy: 0.8778\n",
      "Epoch 45/1000\n",
      "32/46 [===================>..........] - ETA: 0s - loss: 1.0507 - accuracy: 0.5986\n",
      "Epoch 45: saving model to model/keypoint_classifier\\keypoint_classifier.hdf5\n",
      "46/46 [==============================] - 0s 3ms/step - loss: 1.0428 - accuracy: 0.6050 - val_loss: 0.6036 - val_accuracy: 0.8830\n",
      "Epoch 46/1000\n",
      "32/46 [===================>..........] - ETA: 0s - loss: 1.0495 - accuracy: 0.6257\n",
      "Epoch 46: saving model to model/keypoint_classifier\\keypoint_classifier.hdf5\n",
      "46/46 [==============================] - 0s 3ms/step - loss: 1.0380 - accuracy: 0.6214 - val_loss: 0.5935 - val_accuracy: 0.8788\n",
      "Epoch 47/1000\n",
      "31/46 [===================>..........] - ETA: 0s - loss: 1.0318 - accuracy: 0.6220\n",
      "Epoch 47: saving model to model/keypoint_classifier\\keypoint_classifier.hdf5\n",
      "46/46 [==============================] - 0s 3ms/step - loss: 1.0401 - accuracy: 0.6164 - val_loss: 0.5908 - val_accuracy: 0.8929\n",
      "Epoch 48/1000\n",
      "31/46 [===================>..........] - ETA: 0s - loss: 1.0379 - accuracy: 0.6187\n",
      "Epoch 48: saving model to model/keypoint_classifier\\keypoint_classifier.hdf5\n",
      "46/46 [==============================] - 0s 3ms/step - loss: 1.0360 - accuracy: 0.6193 - val_loss: 0.5849 - val_accuracy: 0.8825\n",
      "Epoch 49/1000\n",
      "30/46 [==================>...........] - ETA: 0s - loss: 1.0378 - accuracy: 0.6208\n",
      "Epoch 49: saving model to model/keypoint_classifier\\keypoint_classifier.hdf5\n",
      "46/46 [==============================] - 0s 3ms/step - loss: 1.0332 - accuracy: 0.6277 - val_loss: 0.5811 - val_accuracy: 0.8799\n",
      "Epoch 50/1000\n",
      "31/46 [===================>..........] - ETA: 0s - loss: 1.0274 - accuracy: 0.6184\n",
      "Epoch 50: saving model to model/keypoint_classifier\\keypoint_classifier.hdf5\n",
      "46/46 [==============================] - 0s 3ms/step - loss: 1.0144 - accuracy: 0.6284 - val_loss: 0.5839 - val_accuracy: 0.8794\n",
      "Epoch 51/1000\n",
      "32/46 [===================>..........] - ETA: 0s - loss: 1.0152 - accuracy: 0.6230\n",
      "Epoch 51: saving model to model/keypoint_classifier\\keypoint_classifier.hdf5\n",
      "46/46 [==============================] - 0s 3ms/step - loss: 1.0139 - accuracy: 0.6226 - val_loss: 0.5608 - val_accuracy: 0.8856\n",
      "Epoch 52/1000\n",
      "31/46 [===================>..........] - ETA: 0s - loss: 0.9937 - accuracy: 0.6343\n",
      "Epoch 52: saving model to model/keypoint_classifier\\keypoint_classifier.hdf5\n",
      "46/46 [==============================] - 0s 4ms/step - loss: 0.9918 - accuracy: 0.6389 - val_loss: 0.5653 - val_accuracy: 0.8960\n",
      "Epoch 53/1000\n",
      "31/46 [===================>..........] - ETA: 0s - loss: 0.9930 - accuracy: 0.6310\n",
      "Epoch 53: saving model to model/keypoint_classifier\\keypoint_classifier.hdf5\n",
      "46/46 [==============================] - 0s 3ms/step - loss: 1.0065 - accuracy: 0.6292 - val_loss: 0.5571 - val_accuracy: 0.8981\n",
      "Epoch 54/1000\n",
      "30/46 [==================>...........] - ETA: 0s - loss: 1.0065 - accuracy: 0.6352\n",
      "Epoch 54: saving model to model/keypoint_classifier\\keypoint_classifier.hdf5\n",
      "46/46 [==============================] - 0s 3ms/step - loss: 1.0192 - accuracy: 0.6228 - val_loss: 0.5603 - val_accuracy: 0.8976\n",
      "Epoch 55/1000\n"
     ]
    },
    {
     "name": "stdout",
     "output_type": "stream",
     "text": [
      "29/46 [=================>............] - ETA: 0s - loss: 1.0234 - accuracy: 0.6207\n",
      "Epoch 55: saving model to model/keypoint_classifier\\keypoint_classifier.hdf5\n",
      "46/46 [==============================] - 0s 4ms/step - loss: 0.9976 - accuracy: 0.6280 - val_loss: 0.5549 - val_accuracy: 0.8976\n",
      "Epoch 56/1000\n",
      "31/46 [===================>..........] - ETA: 0s - loss: 0.9998 - accuracy: 0.6348\n",
      "Epoch 56: saving model to model/keypoint_classifier\\keypoint_classifier.hdf5\n",
      "46/46 [==============================] - 0s 3ms/step - loss: 0.9996 - accuracy: 0.6334 - val_loss: 0.5521 - val_accuracy: 0.8981\n",
      "Epoch 57/1000\n",
      "30/46 [==================>...........] - ETA: 0s - loss: 1.0036 - accuracy: 0.6346\n",
      "Epoch 57: saving model to model/keypoint_classifier\\keypoint_classifier.hdf5\n",
      "46/46 [==============================] - 0s 3ms/step - loss: 0.9938 - accuracy: 0.6389 - val_loss: 0.5365 - val_accuracy: 0.9074\n",
      "Epoch 58/1000\n",
      "31/46 [===================>..........] - ETA: 0s - loss: 1.0017 - accuracy: 0.6263\n",
      "Epoch 58: saving model to model/keypoint_classifier\\keypoint_classifier.hdf5\n",
      "46/46 [==============================] - 0s 3ms/step - loss: 0.9941 - accuracy: 0.6294 - val_loss: 0.5449 - val_accuracy: 0.9022\n",
      "Epoch 59/1000\n",
      "30/46 [==================>...........] - ETA: 0s - loss: 0.9968 - accuracy: 0.6344\n",
      "Epoch 59: saving model to model/keypoint_classifier\\keypoint_classifier.hdf5\n",
      "46/46 [==============================] - 0s 4ms/step - loss: 0.9929 - accuracy: 0.6343 - val_loss: 0.5395 - val_accuracy: 0.9069\n",
      "Epoch 60/1000\n",
      "31/46 [===================>..........] - ETA: 0s - loss: 0.9878 - accuracy: 0.6396\n",
      "Epoch 60: saving model to model/keypoint_classifier\\keypoint_classifier.hdf5\n",
      "46/46 [==============================] - 0s 3ms/step - loss: 0.9936 - accuracy: 0.6372 - val_loss: 0.5411 - val_accuracy: 0.9038\n",
      "Epoch 61/1000\n",
      "31/46 [===================>..........] - ETA: 0s - loss: 0.9752 - accuracy: 0.6358\n",
      "Epoch 61: saving model to model/keypoint_classifier\\keypoint_classifier.hdf5\n",
      "46/46 [==============================] - 0s 3ms/step - loss: 0.9811 - accuracy: 0.6349 - val_loss: 0.5299 - val_accuracy: 0.9022\n",
      "Epoch 62/1000\n",
      "31/46 [===================>..........] - ETA: 0s - loss: 0.9611 - accuracy: 0.6494\n",
      "Epoch 62: saving model to model/keypoint_classifier\\keypoint_classifier.hdf5\n",
      "46/46 [==============================] - 0s 3ms/step - loss: 0.9730 - accuracy: 0.6375 - val_loss: 0.5225 - val_accuracy: 0.9147\n",
      "Epoch 63/1000\n",
      "32/46 [===================>..........] - ETA: 0s - loss: 0.9797 - accuracy: 0.6465\n",
      "Epoch 63: saving model to model/keypoint_classifier\\keypoint_classifier.hdf5\n",
      "46/46 [==============================] - 0s 3ms/step - loss: 0.9906 - accuracy: 0.6391 - val_loss: 0.5277 - val_accuracy: 0.9033\n",
      "Epoch 64/1000\n",
      "32/46 [===================>..........] - ETA: 0s - loss: 0.9952 - accuracy: 0.6313\n",
      "Epoch 64: saving model to model/keypoint_classifier\\keypoint_classifier.hdf5\n",
      "46/46 [==============================] - 0s 3ms/step - loss: 0.9917 - accuracy: 0.6318 - val_loss: 0.5236 - val_accuracy: 0.9069\n",
      "Epoch 65/1000\n",
      "36/46 [======================>.......] - ETA: 0s - loss: 0.9679 - accuracy: 0.6328\n",
      "Epoch 65: saving model to model/keypoint_classifier\\keypoint_classifier.hdf5\n",
      "46/46 [==============================] - 0s 3ms/step - loss: 0.9760 - accuracy: 0.6353 - val_loss: 0.5276 - val_accuracy: 0.9059\n",
      "Epoch 66/1000\n",
      "31/46 [===================>..........] - ETA: 0s - loss: 0.9508 - accuracy: 0.6515\n",
      "Epoch 66: saving model to model/keypoint_classifier\\keypoint_classifier.hdf5\n",
      "46/46 [==============================] - 0s 3ms/step - loss: 0.9592 - accuracy: 0.6429 - val_loss: 0.5156 - val_accuracy: 0.9054\n",
      "Epoch 67/1000\n",
      "30/46 [==================>...........] - ETA: 0s - loss: 0.9661 - accuracy: 0.6443\n",
      "Epoch 67: saving model to model/keypoint_classifier\\keypoint_classifier.hdf5\n",
      "46/46 [==============================] - 0s 3ms/step - loss: 0.9646 - accuracy: 0.6443 - val_loss: 0.5144 - val_accuracy: 0.9095\n",
      "Epoch 68/1000\n",
      "31/46 [===================>..........] - ETA: 0s - loss: 0.9456 - accuracy: 0.6477\n",
      "Epoch 68: saving model to model/keypoint_classifier\\keypoint_classifier.hdf5\n",
      "46/46 [==============================] - 0s 3ms/step - loss: 0.9506 - accuracy: 0.6495 - val_loss: 0.5087 - val_accuracy: 0.9090\n",
      "Epoch 69/1000\n",
      "31/46 [===================>..........] - ETA: 0s - loss: 0.9924 - accuracy: 0.6361\n",
      "Epoch 69: saving model to model/keypoint_classifier\\keypoint_classifier.hdf5\n",
      "46/46 [==============================] - 0s 4ms/step - loss: 0.9774 - accuracy: 0.6460 - val_loss: 0.5116 - val_accuracy: 0.9111\n",
      "Epoch 70/1000\n",
      "32/46 [===================>..........] - ETA: 0s - loss: 0.9447 - accuracy: 0.6511\n",
      "Epoch 70: saving model to model/keypoint_classifier\\keypoint_classifier.hdf5\n",
      "46/46 [==============================] - 0s 3ms/step - loss: 0.9463 - accuracy: 0.6493 - val_loss: 0.5045 - val_accuracy: 0.9080\n",
      "Epoch 71/1000\n",
      "31/46 [===================>..........] - ETA: 0s - loss: 0.9620 - accuracy: 0.6414\n",
      "Epoch 71: saving model to model/keypoint_classifier\\keypoint_classifier.hdf5\n",
      "46/46 [==============================] - 0s 4ms/step - loss: 0.9718 - accuracy: 0.6388 - val_loss: 0.5120 - val_accuracy: 0.9043\n",
      "Epoch 72/1000\n",
      "32/46 [===================>..........] - ETA: 0s - loss: 0.9564 - accuracy: 0.6426\n",
      "Epoch 72: saving model to model/keypoint_classifier\\keypoint_classifier.hdf5\n",
      "46/46 [==============================] - 0s 3ms/step - loss: 0.9534 - accuracy: 0.6417 - val_loss: 0.5054 - val_accuracy: 0.9132\n",
      "Epoch 73/1000\n",
      "32/46 [===================>..........] - ETA: 0s - loss: 0.9436 - accuracy: 0.6492\n",
      "Epoch 73: saving model to model/keypoint_classifier\\keypoint_classifier.hdf5\n",
      "46/46 [==============================] - 0s 3ms/step - loss: 0.9500 - accuracy: 0.6434 - val_loss: 0.5051 - val_accuracy: 0.9090\n",
      "Epoch 74/1000\n",
      "33/46 [====================>.........] - ETA: 0s - loss: 0.9749 - accuracy: 0.6326\n",
      "Epoch 74: saving model to model/keypoint_classifier\\keypoint_classifier.hdf5\n",
      "46/46 [==============================] - 0s 3ms/step - loss: 0.9637 - accuracy: 0.6382 - val_loss: 0.4995 - val_accuracy: 0.9095\n",
      "Epoch 75/1000\n",
      "31/46 [===================>..........] - ETA: 0s - loss: 0.9713 - accuracy: 0.6419\n",
      "Epoch 75: saving model to model/keypoint_classifier\\keypoint_classifier.hdf5\n",
      "46/46 [==============================] - 0s 3ms/step - loss: 0.9590 - accuracy: 0.6471 - val_loss: 0.4992 - val_accuracy: 0.9074\n",
      "Epoch 76/1000\n",
      "32/46 [===================>..........] - ETA: 0s - loss: 0.9429 - accuracy: 0.6523\n",
      "Epoch 76: saving model to model/keypoint_classifier\\keypoint_classifier.hdf5\n",
      "46/46 [==============================] - 0s 3ms/step - loss: 0.9458 - accuracy: 0.6516 - val_loss: 0.4985 - val_accuracy: 0.9048\n",
      "Epoch 77/1000\n",
      "32/46 [===================>..........] - ETA: 0s - loss: 0.9466 - accuracy: 0.6440\n",
      "Epoch 77: saving model to model/keypoint_classifier\\keypoint_classifier.hdf5\n",
      "46/46 [==============================] - 0s 3ms/step - loss: 0.9409 - accuracy: 0.6485 - val_loss: 0.4961 - val_accuracy: 0.9074\n",
      "Epoch 78/1000\n",
      "31/46 [===================>..........] - ETA: 0s - loss: 0.9574 - accuracy: 0.6351\n",
      "Epoch 78: saving model to model/keypoint_classifier\\keypoint_classifier.hdf5\n",
      "46/46 [==============================] - 0s 4ms/step - loss: 0.9516 - accuracy: 0.6400 - val_loss: 0.4955 - val_accuracy: 0.9100\n",
      "Epoch 79/1000\n",
      "32/46 [===================>..........] - ETA: 0s - loss: 0.9241 - accuracy: 0.6597\n",
      "Epoch 79: saving model to model/keypoint_classifier\\keypoint_classifier.hdf5\n",
      "46/46 [==============================] - 0s 3ms/step - loss: 0.9255 - accuracy: 0.6587 - val_loss: 0.4908 - val_accuracy: 0.9106\n",
      "Epoch 80/1000\n",
      "30/46 [==================>...........] - ETA: 0s - loss: 0.9341 - accuracy: 0.6549\n",
      "Epoch 80: saving model to model/keypoint_classifier\\keypoint_classifier.hdf5\n",
      "46/46 [==============================] - 0s 3ms/step - loss: 0.9436 - accuracy: 0.6530 - val_loss: 0.4942 - val_accuracy: 0.9116\n",
      "Epoch 81/1000\n",
      "31/46 [===================>..........] - ETA: 0s - loss: 0.9388 - accuracy: 0.6512\n",
      "Epoch 81: saving model to model/keypoint_classifier\\keypoint_classifier.hdf5\n",
      "46/46 [==============================] - 0s 4ms/step - loss: 0.9352 - accuracy: 0.6518 - val_loss: 0.4942 - val_accuracy: 0.9080\n",
      "Epoch 82/1000\n"
     ]
    },
    {
     "name": "stdout",
     "output_type": "stream",
     "text": [
      "31/46 [===================>..........] - ETA: 0s - loss: 0.9377 - accuracy: 0.6540\n",
      "Epoch 82: saving model to model/keypoint_classifier\\keypoint_classifier.hdf5\n",
      "46/46 [==============================] - 0s 3ms/step - loss: 0.9339 - accuracy: 0.6552 - val_loss: 0.4896 - val_accuracy: 0.9111\n",
      "Epoch 83/1000\n",
      "31/46 [===================>..........] - ETA: 0s - loss: 0.9533 - accuracy: 0.6547\n",
      "Epoch 83: saving model to model/keypoint_classifier\\keypoint_classifier.hdf5\n",
      "46/46 [==============================] - 0s 3ms/step - loss: 0.9563 - accuracy: 0.6504 - val_loss: 0.4890 - val_accuracy: 0.9095\n",
      "Epoch 84/1000\n",
      "32/46 [===================>..........] - ETA: 0s - loss: 0.9237 - accuracy: 0.6731\n",
      "Epoch 84: saving model to model/keypoint_classifier\\keypoint_classifier.hdf5\n",
      "46/46 [==============================] - 0s 3ms/step - loss: 0.9295 - accuracy: 0.6632 - val_loss: 0.4880 - val_accuracy: 0.9090\n",
      "Epoch 85/1000\n",
      "31/46 [===================>..........] - ETA: 0s - loss: 0.9252 - accuracy: 0.6507\n",
      "Epoch 85: saving model to model/keypoint_classifier\\keypoint_classifier.hdf5\n",
      "46/46 [==============================] - 0s 3ms/step - loss: 0.9318 - accuracy: 0.6512 - val_loss: 0.4811 - val_accuracy: 0.9069\n",
      "Epoch 86/1000\n",
      "29/46 [=================>............] - ETA: 0s - loss: 0.9322 - accuracy: 0.6514\n",
      "Epoch 86: saving model to model/keypoint_classifier\\keypoint_classifier.hdf5\n",
      "46/46 [==============================] - 0s 4ms/step - loss: 0.9216 - accuracy: 0.6530 - val_loss: 0.4757 - val_accuracy: 0.9132\n",
      "Epoch 87/1000\n",
      "31/46 [===================>..........] - ETA: 0s - loss: 0.9153 - accuracy: 0.6545\n",
      "Epoch 87: saving model to model/keypoint_classifier\\keypoint_classifier.hdf5\n",
      "46/46 [==============================] - 0s 3ms/step - loss: 0.9249 - accuracy: 0.6523 - val_loss: 0.4800 - val_accuracy: 0.9095\n",
      "Epoch 88/1000\n",
      "30/46 [==================>...........] - ETA: 0s - loss: 0.9393 - accuracy: 0.6464\n",
      "Epoch 88: saving model to model/keypoint_classifier\\keypoint_classifier.hdf5\n",
      "46/46 [==============================] - 0s 3ms/step - loss: 0.9252 - accuracy: 0.6554 - val_loss: 0.4808 - val_accuracy: 0.9090\n",
      "Epoch 89/1000\n",
      "30/46 [==================>...........] - ETA: 0s - loss: 0.9139 - accuracy: 0.6615\n",
      "Epoch 89: saving model to model/keypoint_classifier\\keypoint_classifier.hdf5\n",
      "46/46 [==============================] - 0s 3ms/step - loss: 0.9204 - accuracy: 0.6613 - val_loss: 0.4800 - val_accuracy: 0.9074\n",
      "Epoch 90/1000\n",
      "32/46 [===================>..........] - ETA: 0s - loss: 0.9545 - accuracy: 0.6458\n",
      "Epoch 90: saving model to model/keypoint_classifier\\keypoint_classifier.hdf5\n",
      "46/46 [==============================] - 0s 3ms/step - loss: 0.9361 - accuracy: 0.6533 - val_loss: 0.4739 - val_accuracy: 0.9142\n",
      "Epoch 91/1000\n",
      "31/46 [===================>..........] - ETA: 0s - loss: 0.9382 - accuracy: 0.6565\n",
      "Epoch 91: saving model to model/keypoint_classifier\\keypoint_classifier.hdf5\n",
      "46/46 [==============================] - 0s 3ms/step - loss: 0.9310 - accuracy: 0.6540 - val_loss: 0.4720 - val_accuracy: 0.9142\n",
      "Epoch 92/1000\n",
      "32/46 [===================>..........] - ETA: 0s - loss: 0.9083 - accuracy: 0.6658\n",
      "Epoch 92: saving model to model/keypoint_classifier\\keypoint_classifier.hdf5\n",
      "46/46 [==============================] - 0s 3ms/step - loss: 0.9131 - accuracy: 0.6672 - val_loss: 0.4788 - val_accuracy: 0.9085\n",
      "Epoch 93/1000\n",
      "34/46 [=====================>........] - ETA: 0s - loss: 0.8995 - accuracy: 0.6668\n",
      "Epoch 93: saving model to model/keypoint_classifier\\keypoint_classifier.hdf5\n",
      "46/46 [==============================] - 0s 3ms/step - loss: 0.9031 - accuracy: 0.6641 - val_loss: 0.4722 - val_accuracy: 0.9121\n",
      "Epoch 94/1000\n",
      "30/46 [==================>...........] - ETA: 0s - loss: 0.9070 - accuracy: 0.6607\n",
      "Epoch 94: saving model to model/keypoint_classifier\\keypoint_classifier.hdf5\n",
      "46/46 [==============================] - 0s 3ms/step - loss: 0.9081 - accuracy: 0.6634 - val_loss: 0.4679 - val_accuracy: 0.9116\n",
      "Epoch 95/1000\n",
      "35/46 [=====================>........] - ETA: 0s - loss: 0.8995 - accuracy: 0.6663\n",
      "Epoch 95: saving model to model/keypoint_classifier\\keypoint_classifier.hdf5\n",
      "46/46 [==============================] - 0s 3ms/step - loss: 0.9155 - accuracy: 0.6623 - val_loss: 0.4745 - val_accuracy: 0.9106\n",
      "Epoch 96/1000\n",
      "30/46 [==================>...........] - ETA: 0s - loss: 0.9226 - accuracy: 0.6547\n",
      "Epoch 96: saving model to model/keypoint_classifier\\keypoint_classifier.hdf5\n",
      "46/46 [==============================] - 0s 3ms/step - loss: 0.9204 - accuracy: 0.6603 - val_loss: 0.4796 - val_accuracy: 0.9106\n",
      "Epoch 97/1000\n",
      "30/46 [==================>...........] - ETA: 0s - loss: 0.8767 - accuracy: 0.6745\n",
      "Epoch 97: saving model to model/keypoint_classifier\\keypoint_classifier.hdf5\n",
      "46/46 [==============================] - 0s 3ms/step - loss: 0.9046 - accuracy: 0.6644 - val_loss: 0.4707 - val_accuracy: 0.9142\n",
      "Epoch 98/1000\n",
      "35/46 [=====================>........] - ETA: 0s - loss: 0.8811 - accuracy: 0.6775\n",
      "Epoch 98: saving model to model/keypoint_classifier\\keypoint_classifier.hdf5\n",
      "46/46 [==============================] - 0s 3ms/step - loss: 0.8885 - accuracy: 0.6722 - val_loss: 0.4641 - val_accuracy: 0.9189\n",
      "Epoch 99/1000\n",
      "31/46 [===================>..........] - ETA: 0s - loss: 0.9230 - accuracy: 0.6552\n",
      "Epoch 99: saving model to model/keypoint_classifier\\keypoint_classifier.hdf5\n",
      "46/46 [==============================] - 0s 3ms/step - loss: 0.9252 - accuracy: 0.6571 - val_loss: 0.4697 - val_accuracy: 0.9116\n",
      "Epoch 100/1000\n",
      "31/46 [===================>..........] - ETA: 0s - loss: 0.9198 - accuracy: 0.6633\n",
      "Epoch 100: saving model to model/keypoint_classifier\\keypoint_classifier.hdf5\n",
      "46/46 [==============================] - 0s 3ms/step - loss: 0.9068 - accuracy: 0.6672 - val_loss: 0.4653 - val_accuracy: 0.9158\n",
      "Epoch 101/1000\n",
      "30/46 [==================>...........] - ETA: 0s - loss: 0.9018 - accuracy: 0.6797\n",
      "Epoch 101: saving model to model/keypoint_classifier\\keypoint_classifier.hdf5\n",
      "46/46 [==============================] - 0s 4ms/step - loss: 0.8960 - accuracy: 0.6771 - val_loss: 0.4528 - val_accuracy: 0.9152\n",
      "Epoch 102/1000\n",
      "30/46 [==================>...........] - ETA: 0s - loss: 0.8981 - accuracy: 0.6690\n",
      "Epoch 102: saving model to model/keypoint_classifier\\keypoint_classifier.hdf5\n",
      "46/46 [==============================] - 0s 3ms/step - loss: 0.9090 - accuracy: 0.6648 - val_loss: 0.4572 - val_accuracy: 0.9126\n",
      "Epoch 103/1000\n",
      "34/46 [=====================>........] - ETA: 0s - loss: 0.9062 - accuracy: 0.6689\n",
      "Epoch 103: saving model to model/keypoint_classifier\\keypoint_classifier.hdf5\n",
      "46/46 [==============================] - 0s 3ms/step - loss: 0.9182 - accuracy: 0.6661 - val_loss: 0.4612 - val_accuracy: 0.9106\n",
      "Epoch 104/1000\n",
      "30/46 [==================>...........] - ETA: 0s - loss: 0.9037 - accuracy: 0.6648\n",
      "Epoch 104: saving model to model/keypoint_classifier\\keypoint_classifier.hdf5\n",
      "46/46 [==============================] - 0s 3ms/step - loss: 0.8976 - accuracy: 0.6701 - val_loss: 0.4652 - val_accuracy: 0.9064\n",
      "Epoch 105/1000\n",
      "31/46 [===================>..........] - ETA: 0s - loss: 0.9049 - accuracy: 0.6658\n",
      "Epoch 105: saving model to model/keypoint_classifier\\keypoint_classifier.hdf5\n",
      "46/46 [==============================] - 0s 3ms/step - loss: 0.9125 - accuracy: 0.6651 - val_loss: 0.4671 - val_accuracy: 0.9126\n",
      "Epoch 106/1000\n",
      "33/46 [====================>.........] - ETA: 0s - loss: 0.9041 - accuracy: 0.6584\n",
      "Epoch 106: saving model to model/keypoint_classifier\\keypoint_classifier.hdf5\n",
      "46/46 [==============================] - 0s 3ms/step - loss: 0.9094 - accuracy: 0.6597 - val_loss: 0.4672 - val_accuracy: 0.9121\n",
      "Epoch 107/1000\n",
      "31/46 [===================>..........] - ETA: 0s - loss: 0.9129 - accuracy: 0.6610\n",
      "Epoch 107: saving model to model/keypoint_classifier\\keypoint_classifier.hdf5\n",
      "46/46 [==============================] - 0s 3ms/step - loss: 0.8928 - accuracy: 0.6653 - val_loss: 0.4635 - val_accuracy: 0.9142\n",
      "Epoch 108/1000\n",
      "30/46 [==================>...........] - ETA: 0s - loss: 0.8983 - accuracy: 0.6677\n",
      "Epoch 108: saving model to model/keypoint_classifier\\keypoint_classifier.hdf5\n",
      "46/46 [==============================] - 0s 3ms/step - loss: 0.8940 - accuracy: 0.6701 - val_loss: 0.4620 - val_accuracy: 0.9173\n",
      "Epoch 109/1000\n"
     ]
    },
    {
     "name": "stdout",
     "output_type": "stream",
     "text": [
      "33/46 [====================>.........] - ETA: 0s - loss: 0.8875 - accuracy: 0.6624\n",
      "Epoch 109: saving model to model/keypoint_classifier\\keypoint_classifier.hdf5\n",
      "46/46 [==============================] - 0s 3ms/step - loss: 0.8909 - accuracy: 0.6670 - val_loss: 0.4612 - val_accuracy: 0.9106\n",
      "Epoch 110/1000\n",
      "32/46 [===================>..........] - ETA: 0s - loss: 0.8799 - accuracy: 0.6768\n",
      "Epoch 110: saving model to model/keypoint_classifier\\keypoint_classifier.hdf5\n",
      "46/46 [==============================] - 0s 3ms/step - loss: 0.8739 - accuracy: 0.6790 - val_loss: 0.4626 - val_accuracy: 0.9085\n",
      "Epoch 111/1000\n",
      "31/46 [===================>..........] - ETA: 0s - loss: 0.8740 - accuracy: 0.6741\n",
      "Epoch 111: saving model to model/keypoint_classifier\\keypoint_classifier.hdf5\n",
      "46/46 [==============================] - 0s 3ms/step - loss: 0.8880 - accuracy: 0.6710 - val_loss: 0.4684 - val_accuracy: 0.9085\n",
      "Epoch 112/1000\n",
      "34/46 [=====================>........] - ETA: 0s - loss: 0.8826 - accuracy: 0.6714\n",
      "Epoch 112: saving model to model/keypoint_classifier\\keypoint_classifier.hdf5\n",
      "46/46 [==============================] - 0s 3ms/step - loss: 0.8854 - accuracy: 0.6703 - val_loss: 0.4575 - val_accuracy: 0.9147\n",
      "Epoch 113/1000\n",
      "31/46 [===================>..........] - ETA: 0s - loss: 0.8741 - accuracy: 0.6757\n",
      "Epoch 113: saving model to model/keypoint_classifier\\keypoint_classifier.hdf5\n",
      "46/46 [==============================] - 0s 3ms/step - loss: 0.8866 - accuracy: 0.6757 - val_loss: 0.4574 - val_accuracy: 0.9137\n",
      "Epoch 114/1000\n",
      "31/46 [===================>..........] - ETA: 0s - loss: 0.8807 - accuracy: 0.6746\n",
      "Epoch 114: saving model to model/keypoint_classifier\\keypoint_classifier.hdf5\n",
      "46/46 [==============================] - 0s 4ms/step - loss: 0.8800 - accuracy: 0.6722 - val_loss: 0.4520 - val_accuracy: 0.9163\n",
      "Epoch 115/1000\n",
      "30/46 [==================>...........] - ETA: 0s - loss: 0.8865 - accuracy: 0.6732\n",
      "Epoch 115: saving model to model/keypoint_classifier\\keypoint_classifier.hdf5\n",
      "46/46 [==============================] - 0s 3ms/step - loss: 0.8850 - accuracy: 0.6765 - val_loss: 0.4526 - val_accuracy: 0.9152\n",
      "Epoch 116/1000\n",
      "32/46 [===================>..........] - ETA: 0s - loss: 0.8873 - accuracy: 0.6653\n",
      "Epoch 116: saving model to model/keypoint_classifier\\keypoint_classifier.hdf5\n",
      "46/46 [==============================] - 0s 3ms/step - loss: 0.8925 - accuracy: 0.6679 - val_loss: 0.4559 - val_accuracy: 0.9147\n",
      "Epoch 117/1000\n",
      "32/46 [===================>..........] - ETA: 0s - loss: 0.8826 - accuracy: 0.6721\n",
      "Epoch 117: saving model to model/keypoint_classifier\\keypoint_classifier.hdf5\n",
      "46/46 [==============================] - 0s 3ms/step - loss: 0.8808 - accuracy: 0.6693 - val_loss: 0.4514 - val_accuracy: 0.9184\n",
      "Epoch 118/1000\n",
      "31/46 [===================>..........] - ETA: 0s - loss: 0.9117 - accuracy: 0.6628\n",
      "Epoch 118: saving model to model/keypoint_classifier\\keypoint_classifier.hdf5\n",
      "46/46 [==============================] - 0s 3ms/step - loss: 0.9071 - accuracy: 0.6634 - val_loss: 0.4581 - val_accuracy: 0.9126\n",
      "Epoch 119/1000\n",
      "31/46 [===================>..........] - ETA: 0s - loss: 0.8876 - accuracy: 0.6711\n",
      "Epoch 119: saving model to model/keypoint_classifier\\keypoint_classifier.hdf5\n",
      "46/46 [==============================] - 0s 3ms/step - loss: 0.8949 - accuracy: 0.6696 - val_loss: 0.4528 - val_accuracy: 0.9184\n",
      "Epoch 120/1000\n",
      "31/46 [===================>..........] - ETA: 0s - loss: 0.9118 - accuracy: 0.6580\n",
      "Epoch 120: saving model to model/keypoint_classifier\\keypoint_classifier.hdf5\n",
      "46/46 [==============================] - 0s 3ms/step - loss: 0.9097 - accuracy: 0.6616 - val_loss: 0.4531 - val_accuracy: 0.9106\n",
      "Epoch 121/1000\n",
      "31/46 [===================>..........] - ETA: 0s - loss: 0.8837 - accuracy: 0.6739\n",
      "Epoch 121: saving model to model/keypoint_classifier\\keypoint_classifier.hdf5\n",
      "46/46 [==============================] - 0s 3ms/step - loss: 0.8760 - accuracy: 0.6733 - val_loss: 0.4542 - val_accuracy: 0.9158\n",
      "Epoch 122/1000\n",
      "33/46 [====================>.........] - ETA: 0s - loss: 0.8780 - accuracy: 0.6721\n",
      "Epoch 122: saving model to model/keypoint_classifier\\keypoint_classifier.hdf5\n",
      "46/46 [==============================] - 0s 3ms/step - loss: 0.8926 - accuracy: 0.6681 - val_loss: 0.4617 - val_accuracy: 0.9085\n",
      "Epoch 123/1000\n",
      "33/46 [====================>.........] - ETA: 0s - loss: 0.8947 - accuracy: 0.6783\n",
      "Epoch 123: saving model to model/keypoint_classifier\\keypoint_classifier.hdf5\n",
      "46/46 [==============================] - 0s 3ms/step - loss: 0.8922 - accuracy: 0.6771 - val_loss: 0.4589 - val_accuracy: 0.9132\n",
      "Epoch 124/1000\n",
      "31/46 [===================>..........] - ETA: 0s - loss: 0.8977 - accuracy: 0.6618\n",
      "Epoch 124: saving model to model/keypoint_classifier\\keypoint_classifier.hdf5\n",
      "46/46 [==============================] - 0s 3ms/step - loss: 0.8939 - accuracy: 0.6649 - val_loss: 0.4515 - val_accuracy: 0.9121\n",
      "Epoch 125/1000\n",
      "29/46 [=================>............] - ETA: 0s - loss: 0.8449 - accuracy: 0.6864\n",
      "Epoch 125: saving model to model/keypoint_classifier\\keypoint_classifier.hdf5\n",
      "46/46 [==============================] - 0s 4ms/step - loss: 0.8621 - accuracy: 0.6819 - val_loss: 0.4496 - val_accuracy: 0.9142\n",
      "Epoch 126/1000\n",
      "37/46 [=======================>......] - ETA: 0s - loss: 0.8879 - accuracy: 0.6655\n",
      "Epoch 126: saving model to model/keypoint_classifier\\keypoint_classifier.hdf5\n",
      "46/46 [==============================] - 0s 3ms/step - loss: 0.8940 - accuracy: 0.6635 - val_loss: 0.4550 - val_accuracy: 0.9173\n",
      "Epoch 127/1000\n",
      "30/46 [==================>...........] - ETA: 0s - loss: 0.8608 - accuracy: 0.6805\n",
      "Epoch 127: saving model to model/keypoint_classifier\\keypoint_classifier.hdf5\n",
      "46/46 [==============================] - 0s 4ms/step - loss: 0.8588 - accuracy: 0.6812 - val_loss: 0.4494 - val_accuracy: 0.9173\n",
      "Epoch 128/1000\n",
      "32/46 [===================>..........] - ETA: 0s - loss: 0.8812 - accuracy: 0.6680\n",
      "Epoch 128: saving model to model/keypoint_classifier\\keypoint_classifier.hdf5\n",
      "46/46 [==============================] - 0s 3ms/step - loss: 0.8716 - accuracy: 0.6700 - val_loss: 0.4548 - val_accuracy: 0.9132\n",
      "Epoch 129/1000\n",
      "32/46 [===================>..........] - ETA: 0s - loss: 0.8751 - accuracy: 0.6790\n",
      "Epoch 129: saving model to model/keypoint_classifier\\keypoint_classifier.hdf5\n",
      "46/46 [==============================] - 0s 3ms/step - loss: 0.8900 - accuracy: 0.6733 - val_loss: 0.4527 - val_accuracy: 0.9054\n",
      "Epoch 130/1000\n",
      "32/46 [===================>..........] - ETA: 0s - loss: 0.8554 - accuracy: 0.6868\n",
      "Epoch 130: saving model to model/keypoint_classifier\\keypoint_classifier.hdf5\n",
      "46/46 [==============================] - 0s 3ms/step - loss: 0.8510 - accuracy: 0.6883 - val_loss: 0.4436 - val_accuracy: 0.9204\n",
      "Epoch 131/1000\n",
      "32/46 [===================>..........] - ETA: 0s - loss: 0.8816 - accuracy: 0.6755\n",
      "Epoch 131: saving model to model/keypoint_classifier\\keypoint_classifier.hdf5\n",
      "46/46 [==============================] - 0s 3ms/step - loss: 0.8705 - accuracy: 0.6802 - val_loss: 0.4444 - val_accuracy: 0.9194\n",
      "Epoch 132/1000\n",
      "31/46 [===================>..........] - ETA: 0s - loss: 0.8842 - accuracy: 0.6799\n",
      "Epoch 132: saving model to model/keypoint_classifier\\keypoint_classifier.hdf5\n",
      "46/46 [==============================] - 0s 3ms/step - loss: 0.8821 - accuracy: 0.6759 - val_loss: 0.4478 - val_accuracy: 0.9215\n",
      "Epoch 133/1000\n",
      "32/46 [===================>..........] - ETA: 0s - loss: 0.8888 - accuracy: 0.6743\n",
      "Epoch 133: saving model to model/keypoint_classifier\\keypoint_classifier.hdf5\n",
      "46/46 [==============================] - 0s 3ms/step - loss: 0.8855 - accuracy: 0.6738 - val_loss: 0.4423 - val_accuracy: 0.9225\n",
      "Epoch 134/1000\n",
      "32/46 [===================>..........] - ETA: 0s - loss: 0.8757 - accuracy: 0.6765\n",
      "Epoch 134: saving model to model/keypoint_classifier\\keypoint_classifier.hdf5\n",
      "46/46 [==============================] - 0s 3ms/step - loss: 0.8742 - accuracy: 0.6755 - val_loss: 0.4488 - val_accuracy: 0.9173\n",
      "Epoch 135/1000\n",
      "33/46 [====================>.........] - ETA: 0s - loss: 0.8439 - accuracy: 0.6922\n",
      "Epoch 135: saving model to model/keypoint_classifier\\keypoint_classifier.hdf5\n",
      "46/46 [==============================] - 0s 3ms/step - loss: 0.8447 - accuracy: 0.6894 - val_loss: 0.4379 - val_accuracy: 0.9158\n"
     ]
    },
    {
     "name": "stdout",
     "output_type": "stream",
     "text": [
      "Epoch 136/1000\n",
      "31/46 [===================>..........] - ETA: 0s - loss: 0.8585 - accuracy: 0.6817\n",
      "Epoch 136: saving model to model/keypoint_classifier\\keypoint_classifier.hdf5\n",
      "46/46 [==============================] - 0s 3ms/step - loss: 0.8638 - accuracy: 0.6790 - val_loss: 0.4431 - val_accuracy: 0.9173\n",
      "Epoch 137/1000\n",
      "32/46 [===================>..........] - ETA: 0s - loss: 0.8612 - accuracy: 0.6836\n",
      "Epoch 137: saving model to model/keypoint_classifier\\keypoint_classifier.hdf5\n",
      "46/46 [==============================] - 0s 3ms/step - loss: 0.8628 - accuracy: 0.6785 - val_loss: 0.4446 - val_accuracy: 0.9184\n",
      "Epoch 138/1000\n",
      "33/46 [====================>.........] - ETA: 0s - loss: 0.8794 - accuracy: 0.6686\n",
      "Epoch 138: saving model to model/keypoint_classifier\\keypoint_classifier.hdf5\n",
      "46/46 [==============================] - 0s 3ms/step - loss: 0.8819 - accuracy: 0.6677 - val_loss: 0.4431 - val_accuracy: 0.9204\n",
      "Epoch 139/1000\n",
      "31/46 [===================>..........] - ETA: 0s - loss: 0.8883 - accuracy: 0.6779\n",
      "Epoch 139: saving model to model/keypoint_classifier\\keypoint_classifier.hdf5\n",
      "46/46 [==============================] - 0s 3ms/step - loss: 0.8802 - accuracy: 0.6786 - val_loss: 0.4517 - val_accuracy: 0.9220\n",
      "Epoch 140/1000\n",
      "31/46 [===================>..........] - ETA: 0s - loss: 0.8516 - accuracy: 0.6812\n",
      "Epoch 140: saving model to model/keypoint_classifier\\keypoint_classifier.hdf5\n",
      "46/46 [==============================] - 0s 3ms/step - loss: 0.8698 - accuracy: 0.6771 - val_loss: 0.4519 - val_accuracy: 0.9189\n",
      "Epoch 141/1000\n",
      "32/46 [===================>..........] - ETA: 0s - loss: 0.8679 - accuracy: 0.6819\n",
      "Epoch 141: saving model to model/keypoint_classifier\\keypoint_classifier.hdf5\n",
      "46/46 [==============================] - 0s 3ms/step - loss: 0.8730 - accuracy: 0.6757 - val_loss: 0.4453 - val_accuracy: 0.9230\n",
      "Epoch 142/1000\n",
      "33/46 [====================>.........] - ETA: 0s - loss: 0.8667 - accuracy: 0.6799\n",
      "Epoch 142: saving model to model/keypoint_classifier\\keypoint_classifier.hdf5\n",
      "46/46 [==============================] - 0s 3ms/step - loss: 0.8598 - accuracy: 0.6859 - val_loss: 0.4407 - val_accuracy: 0.9121\n",
      "Epoch 143/1000\n",
      "32/46 [===================>..........] - ETA: 0s - loss: 0.8514 - accuracy: 0.6829\n",
      "Epoch 143: saving model to model/keypoint_classifier\\keypoint_classifier.hdf5\n",
      "46/46 [==============================] - 0s 3ms/step - loss: 0.8576 - accuracy: 0.6809 - val_loss: 0.4520 - val_accuracy: 0.9199\n",
      "Epoch 144/1000\n",
      "32/46 [===================>..........] - ETA: 0s - loss: 0.8657 - accuracy: 0.6846\n",
      "Epoch 144: saving model to model/keypoint_classifier\\keypoint_classifier.hdf5\n",
      "46/46 [==============================] - 0s 3ms/step - loss: 0.8672 - accuracy: 0.6835 - val_loss: 0.4441 - val_accuracy: 0.9178\n",
      "Epoch 145/1000\n",
      "32/46 [===================>..........] - ETA: 0s - loss: 0.8650 - accuracy: 0.6741\n",
      "Epoch 145: saving model to model/keypoint_classifier\\keypoint_classifier.hdf5\n",
      "46/46 [==============================] - 0s 3ms/step - loss: 0.8710 - accuracy: 0.6753 - val_loss: 0.4439 - val_accuracy: 0.9215\n",
      "Epoch 146/1000\n",
      "32/46 [===================>..........] - ETA: 0s - loss: 0.8778 - accuracy: 0.6663\n",
      "Epoch 146: saving model to model/keypoint_classifier\\keypoint_classifier.hdf5\n",
      "46/46 [==============================] - 0s 3ms/step - loss: 0.8681 - accuracy: 0.6675 - val_loss: 0.4421 - val_accuracy: 0.9168\n",
      "Epoch 147/1000\n",
      "31/46 [===================>..........] - ETA: 0s - loss: 0.8487 - accuracy: 0.6832\n",
      "Epoch 147: saving model to model/keypoint_classifier\\keypoint_classifier.hdf5\n",
      "46/46 [==============================] - 0s 3ms/step - loss: 0.8516 - accuracy: 0.6819 - val_loss: 0.4428 - val_accuracy: 0.9194\n",
      "Epoch 148/1000\n",
      "32/46 [===================>..........] - ETA: 0s - loss: 0.8562 - accuracy: 0.6812\n",
      "Epoch 148: saving model to model/keypoint_classifier\\keypoint_classifier.hdf5\n",
      "46/46 [==============================] - 0s 3ms/step - loss: 0.8526 - accuracy: 0.6805 - val_loss: 0.4374 - val_accuracy: 0.9189\n",
      "Epoch 149/1000\n",
      "33/46 [====================>.........] - ETA: 0s - loss: 0.8479 - accuracy: 0.6894\n",
      "Epoch 149: saving model to model/keypoint_classifier\\keypoint_classifier.hdf5\n",
      "46/46 [==============================] - 0s 3ms/step - loss: 0.8667 - accuracy: 0.6842 - val_loss: 0.4388 - val_accuracy: 0.9215\n",
      "Epoch 150/1000\n",
      "33/46 [====================>.........] - ETA: 0s - loss: 0.8770 - accuracy: 0.6761\n",
      "Epoch 150: saving model to model/keypoint_classifier\\keypoint_classifier.hdf5\n",
      "46/46 [==============================] - 0s 3ms/step - loss: 0.8777 - accuracy: 0.6750 - val_loss: 0.4487 - val_accuracy: 0.9090\n",
      "Epoch 151/1000\n",
      "33/46 [====================>.........] - ETA: 0s - loss: 0.8634 - accuracy: 0.6823\n",
      "Epoch 151: saving model to model/keypoint_classifier\\keypoint_classifier.hdf5\n",
      "46/46 [==============================] - 0s 3ms/step - loss: 0.8684 - accuracy: 0.6814 - val_loss: 0.4440 - val_accuracy: 0.9199\n",
      "Epoch 152/1000\n",
      "32/46 [===================>..........] - ETA: 0s - loss: 0.8522 - accuracy: 0.6895\n",
      "Epoch 152: saving model to model/keypoint_classifier\\keypoint_classifier.hdf5\n",
      "46/46 [==============================] - 0s 3ms/step - loss: 0.8629 - accuracy: 0.6868 - val_loss: 0.4455 - val_accuracy: 0.9152\n",
      "Epoch 153/1000\n",
      "32/46 [===================>..........] - ETA: 0s - loss: 0.8554 - accuracy: 0.6824\n",
      "Epoch 153: saving model to model/keypoint_classifier\\keypoint_classifier.hdf5\n",
      "46/46 [==============================] - 0s 3ms/step - loss: 0.8542 - accuracy: 0.6866 - val_loss: 0.4381 - val_accuracy: 0.9225\n",
      "Epoch 154/1000\n",
      "31/46 [===================>..........] - ETA: 0s - loss: 0.8702 - accuracy: 0.6729\n",
      "Epoch 154: saving model to model/keypoint_classifier\\keypoint_classifier.hdf5\n",
      "46/46 [==============================] - 0s 3ms/step - loss: 0.8681 - accuracy: 0.6759 - val_loss: 0.4484 - val_accuracy: 0.9225\n",
      "Epoch 155/1000\n",
      "32/46 [===================>..........] - ETA: 0s - loss: 0.8615 - accuracy: 0.6775\n",
      "Epoch 155: saving model to model/keypoint_classifier\\keypoint_classifier.hdf5\n",
      "46/46 [==============================] - 0s 3ms/step - loss: 0.8533 - accuracy: 0.6819 - val_loss: 0.4413 - val_accuracy: 0.9199\n",
      "Epoch 156/1000\n",
      "31/46 [===================>..........] - ETA: 0s - loss: 0.8718 - accuracy: 0.6774\n",
      "Epoch 156: saving model to model/keypoint_classifier\\keypoint_classifier.hdf5\n",
      "46/46 [==============================] - 0s 4ms/step - loss: 0.8732 - accuracy: 0.6802 - val_loss: 0.4418 - val_accuracy: 0.9241\n",
      "Epoch 157/1000\n",
      "31/46 [===================>..........] - ETA: 0s - loss: 0.8739 - accuracy: 0.6799\n",
      "Epoch 157: saving model to model/keypoint_classifier\\keypoint_classifier.hdf5\n",
      "46/46 [==============================] - 0s 3ms/step - loss: 0.8556 - accuracy: 0.6835 - val_loss: 0.4407 - val_accuracy: 0.9173\n",
      "Epoch 158/1000\n",
      "32/46 [===================>..........] - ETA: 0s - loss: 0.8501 - accuracy: 0.6843\n",
      "Epoch 158: saving model to model/keypoint_classifier\\keypoint_classifier.hdf5\n",
      "46/46 [==============================] - 0s 3ms/step - loss: 0.8608 - accuracy: 0.6804 - val_loss: 0.4403 - val_accuracy: 0.9215\n",
      "Epoch 159/1000\n",
      "32/46 [===================>..........] - ETA: 0s - loss: 0.8713 - accuracy: 0.6819\n",
      "Epoch 159: saving model to model/keypoint_classifier\\keypoint_classifier.hdf5\n",
      "46/46 [==============================] - 0s 3ms/step - loss: 0.8736 - accuracy: 0.6843 - val_loss: 0.4323 - val_accuracy: 0.9210\n",
      "Epoch 160/1000\n",
      "31/46 [===================>..........] - ETA: 0s - loss: 0.8527 - accuracy: 0.6787\n",
      "Epoch 160: saving model to model/keypoint_classifier\\keypoint_classifier.hdf5\n",
      "46/46 [==============================] - 0s 3ms/step - loss: 0.8533 - accuracy: 0.6791 - val_loss: 0.4424 - val_accuracy: 0.9126\n",
      "Epoch 161/1000\n",
      "32/46 [===================>..........] - ETA: 0s - loss: 0.8465 - accuracy: 0.6895\n",
      "Epoch 161: saving model to model/keypoint_classifier\\keypoint_classifier.hdf5\n",
      "46/46 [==============================] - 0s 3ms/step - loss: 0.8447 - accuracy: 0.6909 - val_loss: 0.4344 - val_accuracy: 0.9230\n",
      "Epoch 162/1000\n",
      "32/46 [===================>..........] - ETA: 0s - loss: 0.8595 - accuracy: 0.6904\n",
      "Epoch 162: saving model to model/keypoint_classifier\\keypoint_classifier.hdf5\n",
      "46/46 [==============================] - 0s 3ms/step - loss: 0.8596 - accuracy: 0.6899 - val_loss: 0.4449 - val_accuracy: 0.9225\n"
     ]
    },
    {
     "name": "stdout",
     "output_type": "stream",
     "text": [
      "Epoch 163/1000\n",
      "33/46 [====================>.........] - ETA: 0s - loss: 0.8424 - accuracy: 0.6821\n",
      "Epoch 163: saving model to model/keypoint_classifier\\keypoint_classifier.hdf5\n",
      "46/46 [==============================] - 0s 3ms/step - loss: 0.8540 - accuracy: 0.6800 - val_loss: 0.4471 - val_accuracy: 0.9236\n",
      "Epoch 164/1000\n",
      "33/46 [====================>.........] - ETA: 0s - loss: 0.8801 - accuracy: 0.6783\n",
      "Epoch 164: saving model to model/keypoint_classifier\\keypoint_classifier.hdf5\n",
      "46/46 [==============================] - 0s 3ms/step - loss: 0.8672 - accuracy: 0.6847 - val_loss: 0.4445 - val_accuracy: 0.9225\n",
      "Epoch 165/1000\n",
      "31/46 [===================>..........] - ETA: 0s - loss: 0.8494 - accuracy: 0.6827\n",
      "Epoch 165: saving model to model/keypoint_classifier\\keypoint_classifier.hdf5\n",
      "46/46 [==============================] - 0s 3ms/step - loss: 0.8426 - accuracy: 0.6897 - val_loss: 0.4441 - val_accuracy: 0.9225\n",
      "Epoch 166/1000\n",
      "37/46 [=======================>......] - ETA: 0s - loss: 0.8459 - accuracy: 0.6833\n",
      "Epoch 166: saving model to model/keypoint_classifier\\keypoint_classifier.hdf5\n",
      "46/46 [==============================] - 0s 3ms/step - loss: 0.8414 - accuracy: 0.6845 - val_loss: 0.4409 - val_accuracy: 0.9236\n",
      "Epoch 167/1000\n",
      "30/46 [==================>...........] - ETA: 0s - loss: 0.8517 - accuracy: 0.6891\n",
      "Epoch 167: saving model to model/keypoint_classifier\\keypoint_classifier.hdf5\n",
      "46/46 [==============================] - 0s 4ms/step - loss: 0.8438 - accuracy: 0.6916 - val_loss: 0.4428 - val_accuracy: 0.9178\n",
      "Epoch 168/1000\n",
      "31/46 [===================>..........] - ETA: 0s - loss: 0.8648 - accuracy: 0.6835\n",
      "Epoch 168: saving model to model/keypoint_classifier\\keypoint_classifier.hdf5\n",
      "46/46 [==============================] - 0s 3ms/step - loss: 0.8490 - accuracy: 0.6916 - val_loss: 0.4367 - val_accuracy: 0.9189\n",
      "Epoch 169/1000\n",
      "31/46 [===================>..........] - ETA: 0s - loss: 0.8316 - accuracy: 0.6953\n",
      "Epoch 169: saving model to model/keypoint_classifier\\keypoint_classifier.hdf5\n",
      "46/46 [==============================] - 0s 3ms/step - loss: 0.8295 - accuracy: 0.6953 - val_loss: 0.4371 - val_accuracy: 0.9236\n",
      "Epoch 170/1000\n",
      "32/46 [===================>..........] - ETA: 0s - loss: 0.8666 - accuracy: 0.6792\n",
      "Epoch 170: saving model to model/keypoint_classifier\\keypoint_classifier.hdf5\n",
      "46/46 [==============================] - 0s 3ms/step - loss: 0.8591 - accuracy: 0.6826 - val_loss: 0.4338 - val_accuracy: 0.9199\n",
      "Epoch 171/1000\n",
      "32/46 [===================>..........] - ETA: 0s - loss: 0.8393 - accuracy: 0.6829\n",
      "Epoch 171: saving model to model/keypoint_classifier\\keypoint_classifier.hdf5\n",
      "46/46 [==============================] - 0s 3ms/step - loss: 0.8473 - accuracy: 0.6765 - val_loss: 0.4326 - val_accuracy: 0.9267\n",
      "Epoch 172/1000\n",
      "32/46 [===================>..........] - ETA: 0s - loss: 0.8396 - accuracy: 0.6936\n",
      "Epoch 172: saving model to model/keypoint_classifier\\keypoint_classifier.hdf5\n",
      "46/46 [==============================] - 0s 3ms/step - loss: 0.8453 - accuracy: 0.6906 - val_loss: 0.4326 - val_accuracy: 0.9236\n",
      "Epoch 173/1000\n",
      "31/46 [===================>..........] - ETA: 0s - loss: 0.8459 - accuracy: 0.6925\n",
      "Epoch 173: saving model to model/keypoint_classifier\\keypoint_classifier.hdf5\n",
      "46/46 [==============================] - 0s 3ms/step - loss: 0.8379 - accuracy: 0.6916 - val_loss: 0.4356 - val_accuracy: 0.9277\n",
      "Epoch 174/1000\n",
      "31/46 [===================>..........] - ETA: 0s - loss: 0.8260 - accuracy: 0.7056\n",
      "Epoch 174: saving model to model/keypoint_classifier\\keypoint_classifier.hdf5\n",
      "46/46 [==============================] - 0s 4ms/step - loss: 0.8432 - accuracy: 0.6942 - val_loss: 0.4385 - val_accuracy: 0.9189\n",
      "Epoch 175/1000\n",
      "29/46 [=================>............] - ETA: 0s - loss: 0.8641 - accuracy: 0.6870\n",
      "Epoch 175: saving model to model/keypoint_classifier\\keypoint_classifier.hdf5\n",
      "46/46 [==============================] - 0s 4ms/step - loss: 0.8543 - accuracy: 0.6906 - val_loss: 0.4393 - val_accuracy: 0.9220\n",
      "Epoch 176/1000\n",
      "31/46 [===================>..........] - ETA: 0s - loss: 0.8378 - accuracy: 0.6875\n",
      "Epoch 176: saving model to model/keypoint_classifier\\keypoint_classifier.hdf5\n",
      "46/46 [==============================] - 0s 3ms/step - loss: 0.8331 - accuracy: 0.6904 - val_loss: 0.4449 - val_accuracy: 0.9168\n",
      "Epoch 177/1000\n",
      "32/46 [===================>..........] - ETA: 0s - loss: 0.8329 - accuracy: 0.6934\n",
      "Epoch 177: saving model to model/keypoint_classifier\\keypoint_classifier.hdf5\n",
      "46/46 [==============================] - 0s 3ms/step - loss: 0.8362 - accuracy: 0.6909 - val_loss: 0.4390 - val_accuracy: 0.9220\n",
      "Epoch 178/1000\n",
      "29/46 [=================>............] - ETA: 0s - loss: 0.8221 - accuracy: 0.6926\n",
      "Epoch 178: saving model to model/keypoint_classifier\\keypoint_classifier.hdf5\n",
      "46/46 [==============================] - 0s 3ms/step - loss: 0.8285 - accuracy: 0.6937 - val_loss: 0.4399 - val_accuracy: 0.9194\n",
      "Epoch 179/1000\n",
      "26/46 [===============>..............] - ETA: 0s - loss: 0.8228 - accuracy: 0.6947\n",
      "Epoch 179: saving model to model/keypoint_classifier\\keypoint_classifier.hdf5\n",
      "46/46 [==============================] - 0s 4ms/step - loss: 0.8191 - accuracy: 0.6965 - val_loss: 0.4410 - val_accuracy: 0.9168\n",
      "Epoch 179: early stopping\n"
     ]
    },
    {
     "data": {
      "text/plain": [
       "<keras.callbacks.History at 0x2171dfe2cd0>"
      ]
     },
     "execution_count": 22,
     "metadata": {},
     "output_type": "execute_result"
    }
   ],
   "source": [
    "model.fit(\n",
    "    X_train,\n",
    "    y_train,\n",
    "    epochs=1000,\n",
    "    batch_size=128,\n",
    "    validation_data=(X_test, y_test),\n",
    "    callbacks=[cp_callback, es_callback]\n",
    ")"
   ]
  },
  {
   "cell_type": "code",
   "execution_count": 23,
   "metadata": {
    "colab": {
     "base_uri": "https://localhost:8080/"
    },
    "id": "pxvb2Y299hE3",
    "outputId": "59eb3185-2e37-4b9e-bc9d-ab1b8ac29b7f"
   },
   "outputs": [
    {
     "name": "stdout",
     "output_type": "stream",
     "text": [
      "16/16 [==============================] - 0s 1ms/step - loss: 0.4410 - accuracy: 0.9168\n"
     ]
    }
   ],
   "source": [
    "# Model evaluation\n",
    "val_loss, val_acc = model.evaluate(X_test, y_test, batch_size=128)"
   ]
  },
  {
   "cell_type": "code",
   "execution_count": 24,
   "metadata": {
    "id": "RBkmDeUW9hE4"
   },
   "outputs": [],
   "source": [
    "# Loading the saved model\n",
    "model = tf.keras.models.load_model(model_save_path)"
   ]
  },
  {
   "cell_type": "code",
   "execution_count": 25,
   "metadata": {
    "colab": {
     "base_uri": "https://localhost:8080/"
    },
    "id": "tFz9Tb0I9hE4",
    "outputId": "1c3b3528-54ae-4ee2-ab04-77429211cbef"
   },
   "outputs": [
    {
     "name": "stdout",
     "output_type": "stream",
     "text": [
      "1/1 [==============================] - 0s 102ms/step\n",
      "[1.2771007e-02 8.7217581e-01 6.9913138e-03 2.7595295e-03 6.8314016e-08\n",
      " 1.4245667e-04 3.4324054e-04 1.0477057e-01 2.0430034e-05 2.5587688e-05]\n",
      "1\n"
     ]
    }
   ],
   "source": [
    "# Inference test\n",
    "predict_result = model.predict(np.array([X_test[0]]))\n",
    "print(np.squeeze(predict_result))\n",
    "print(np.argmax(np.squeeze(predict_result)))"
   ]
  },
  {
   "cell_type": "markdown",
   "metadata": {
    "id": "S3U4yNWx9hE4"
   },
   "source": [
    "# Confusion matrix"
   ]
  },
  {
   "cell_type": "code",
   "execution_count": 26,
   "metadata": {
    "colab": {
     "base_uri": "https://localhost:8080/",
     "height": 582
    },
    "id": "AP1V6SCk9hE5",
    "outputId": "08e41a80-7a4a-4619-8125-ecc371368d19"
   },
   "outputs": [
    {
     "name": "stdout",
     "output_type": "stream",
     "text": [
      "61/61 [==============================] - 0s 993us/step\n"
     ]
    },
    {
     "data": {
      "image/png": "[encoded data removed]",
      "text/plain": [
       "<Figure size 700x600 with 2 Axes>"
      ]
     },
     "metadata": {},
     "output_type": "display_data"
    },
    {
     "name": "stdout",
     "output_type": "stream",
     "text": [
      "Classification Report\n",
      "              precision    recall  f1-score   support\n",
      "\n",
      "           0       0.92      0.85      0.88       410\n",
      "           1       0.97      0.85      0.91       404\n",
      "           2       0.89      0.94      0.92       325\n",
      "           3       0.73      0.95      0.83        85\n",
      "           4       0.96      1.00      0.98       325\n",
      "           5       0.80      0.96      0.87        96\n",
      "           6       0.89      1.00      0.94        70\n",
      "           7       0.96      0.92      0.94        86\n",
      "           8       1.00      0.95      0.98        65\n",
      "           9       0.95      0.93      0.94        57\n",
      "\n",
      "    accuracy                           0.92      1923\n",
      "   macro avg       0.91      0.94      0.92      1923\n",
      "weighted avg       0.92      0.92      0.92      1923\n",
      "\n"
     ]
    }
   ],
   "source": [
    "import pandas as pd\n",
    "import seaborn as sns\n",
    "import matplotlib.pyplot as plt\n",
    "from sklearn.metrics import confusion_matrix, classification_report\n",
    "\n",
    "def print_confusion_matrix(y_true, y_pred, report=True):\n",
    "    labels = sorted(list(set(y_true)))\n",
    "    cmx_data = confusion_matrix(y_true, y_pred, labels=labels)\n",
    "    \n",
    "    df_cmx = pd.DataFrame(cmx_data, index=labels, columns=labels)\n",
    " \n",
    "    fig, ax = plt.subplots(figsize=(7, 6))\n",
    "    sns.heatmap(df_cmx, annot=True, fmt='g' ,square=False)\n",
    "    ax.set_ylim(len(set(y_true)), 0)\n",
    "    plt.show()\n",
    "    \n",
    "    if report:\n",
    "        print('Classification Report')\n",
    "        print(classification_report(y_test, y_pred))\n",
    "\n",
    "Y_pred = model.predict(X_test)\n",
    "y_pred = np.argmax(Y_pred, axis=1)\n",
    "\n",
    "print_confusion_matrix(y_test, y_pred)"
   ]
  },
  {
   "cell_type": "markdown",
   "metadata": {
    "id": "FNP6aqzc9hE5"
   },
   "source": [
    "# Convert to model for Tensorflow-Lite"
   ]
  },
  {
   "cell_type": "code",
   "execution_count": 27,
   "metadata": {
    "id": "ODjnYyld9hE6"
   },
   "outputs": [],
   "source": [
    "# Save as a model dedicated to inference\n",
    "model.save(model_save_path, include_optimizer=False)"
   ]
  },
  {
   "cell_type": "code",
   "execution_count": 28,
   "metadata": {
    "colab": {
     "base_uri": "https://localhost:8080/"
    },
    "id": "zRfuK8Y59hE6",
    "outputId": "a4ca585c-b5d5-4244-8291-8674063209bb"
   },
   "outputs": [
    {
     "name": "stderr",
     "output_type": "stream",
     "text": [
      "WARNING:absl:Found untraced functions such as _update_step_xla while saving (showing 1 of 1). These functions will not be directly callable after loading.\n"
     ]
    },
    {
     "name": "stdout",
     "output_type": "stream",
     "text": [
      "INFO:tensorflow:Assets written to: C:\\Users\\SAMPRE~1\\AppData\\Local\\Temp\\tmpourwonwh\\assets\n"
     ]
    },
    {
     "name": "stderr",
     "output_type": "stream",
     "text": [
      "INFO:tensorflow:Assets written to: C:\\Users\\SAMPRE~1\\AppData\\Local\\Temp\\tmpourwonwh\\assets\n"
     ]
    },
    {
     "data": {
      "text/plain": [
       "6836"
      ]
     },
     "execution_count": 28,
     "metadata": {},
     "output_type": "execute_result"
    }
   ],
   "source": [
    "# Transform model (quantization)\n",
    "\n",
    "converter = tf.lite.TFLiteConverter.from_keras_model(model)\n",
    "converter.optimizations = [tf.lite.Optimize.DEFAULT]\n",
    "tflite_quantized_model = converter.convert()\n",
    "\n",
    "open(tflite_save_path, 'wb').write(tflite_quantized_model)"
   ]
  },
  {
   "cell_type": "markdown",
   "metadata": {
    "id": "CHBPBXdx9hE6"
   },
   "source": [
    "# Inference test"
   ]
  },
  {
   "cell_type": "code",
   "execution_count": 29,
   "metadata": {
    "id": "mGAzLocO9hE7"
   },
   "outputs": [],
   "source": [
    "interpreter = tf.lite.Interpreter(model_path=tflite_save_path)\n",
    "interpreter.allocate_tensors()"
   ]
  },
  {
   "cell_type": "code",
   "execution_count": 30,
   "metadata": {
    "id": "oQuDK8YS9hE7"
   },
   "outputs": [],
   "source": [
    "# Get I / O tensor\n",
    "input_details = interpreter.get_input_details()\n",
    "output_details = interpreter.get_output_details()"
   ]
  },
  {
   "cell_type": "code",
   "execution_count": 31,
   "metadata": {
    "id": "2_ixAf_l9hE7"
   },
   "outputs": [],
   "source": [
    "interpreter.set_tensor(input_details[0]['index'], np.array([X_test[0]]))"
   ]
  },
  {
   "cell_type": "code",
   "execution_count": 32,
   "metadata": {
    "colab": {
     "base_uri": "https://localhost:8080/"
    },
    "id": "s4FoAnuc9hE7",
    "outputId": "91f18257-8d8b-4ef3-c558-e9b5f94fabbf",
    "scrolled": true
   },
   "outputs": [
    {
     "name": "stdout",
     "output_type": "stream",
     "text": [
      "CPU times: total: 0 ns\n",
      "Wall time: 2.65 ms\n"
     ]
    }
   ],
   "source": [
    "%%time\n",
    "# Inference implementation\n",
    "interpreter.invoke()\n",
    "tflite_results = interpreter.get_tensor(output_details[0]['index'])"
   ]
  },
  {
   "cell_type": "code",
   "execution_count": 33,
   "metadata": {
    "colab": {
     "base_uri": "https://localhost:8080/"
    },
    "id": "vONjp19J9hE8",
    "outputId": "77205e24-fd00-42c4-f7b6-e06e527c2cba"
   },
   "outputs": [
    {
     "name": "stdout",
     "output_type": "stream",
     "text": [
      "[1.2771008e-02 8.7217593e-01 6.9913114e-03 2.7595269e-03 6.8313895e-08\n",
      " 1.4245629e-04 3.4324088e-04 1.0477048e-01 2.0429998e-05 2.5587668e-05]\n",
      "1\n"
     ]
    }
   ],
   "source": [
    "print(np.squeeze(tflite_results))\n",
    "print(np.argmax(np.squeeze(tflite_results)))"
   ]
  }
 ],
 "metadata": {
  "accelerator": "GPU",
  "colab": {
   "collapsed_sections": [],
   "name": "keypoint_classification_EN.ipynb",
   "provenance": [],
   "toc_visible": true
  },
  "kernelspec": {
   "display_name": "Python 3 (ipykernel)",
   "language": "python",
   "name": "python3"
  },
  "language_info": {
   "codemirror_mode": {
    "name": "ipython",
    "version": 3
   },
   "file_extension": ".py",
   "mimetype": "text/x-python",
   "name": "python",
   "nbconvert_exporter": "python",
   "pygments_lexer": "ipython3",
   "version": "3.11.3"
  }
 },
 "nbformat": 4,
 "nbformat_minor": 1
}
